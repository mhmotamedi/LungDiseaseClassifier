{
 "cells": [
  {
   "cell_type": "code",
   "execution_count": 1,
   "metadata": {
    "collapsed": true
   },
   "outputs": [],
   "source": [
    "#gcloud config set account '746556916249-computer@developer.gserviceaccount.com'"
   ]
  },
  {
   "cell_type": "code",
   "execution_count": 1,
   "metadata": {},
   "outputs": [
    {
     "name": "stderr",
     "output_type": "stream",
     "text": [
      "/home/mhoseinmotamedi/tensorflow/lib/python3.5/site-packages/h5py/__init__.py:36: FutureWarning: Conversion of the second argument of issubdtype from `float` to `np.floating` is deprecated. In future, it will be treated as `np.float64 == np.dtype(float).type`.\n",
      "  from ._conv import register_converters as _register_converters\n",
      "Using TensorFlow backend.\n"
     ]
    }
   ],
   "source": [
    "import keras\n",
    "#from keras.models import Sequential\n",
    "#from keras.layers.core import Dense, Dropout, Activation, Flatten\n",
    "#from keras.layers.convolutional import Conv2D, MaxPooling2D\n",
    "#from keras.utils import np_utils\n",
    "from keras.callbacks import ModelCheckpoint, LearningRateScheduler\n",
    "from keras.callbacks import ReduceLROnPlateau\n",
    "from keras.optimizers import SGD, RMSprop, adam,adadelta\n",
    "from keras.utils import plot_model,  to_categorical"
   ]
  },
  {
   "cell_type": "code",
   "execution_count": 2,
   "metadata": {
    "collapsed": true
   },
   "outputs": [],
   "source": [
    "import keras\n",
    "from keras.models import Model\n",
    "from keras.layers import Conv2D, MaxPooling2D\n",
    "from keras.layers import Flatten, Dense, Dropout\n",
    "from keras.layers import Input\n",
    "from keras.utils import np_utils\n",
    "#from keras.datasets import cifar10\n",
    "from keras import regularizers"
   ]
  },
  {
   "cell_type": "code",
   "execution_count": 3,
   "metadata": {},
   "outputs": [
    {
     "name": "stderr",
     "output_type": "stream",
     "text": [
      "/home/mhoseinmotamedi/tensorflow/lib/python3.5/site-packages/sklearn/cross_validation.py:41: DeprecationWarning: This module was deprecated in version 0.18 in favor of the model_selection module into which all the refactored classes and functions are moved. Also note that the interface of the new CV iterators are different from that of this module. This module will be removed in 0.20.\n",
      "  \"This module will be removed in 0.20.\", DeprecationWarning)\n"
     ]
    }
   ],
   "source": [
    "from numpy import *\n",
    "from sklearn.utils import shuffle\n",
    "from sklearn.cross_validation import train_test_split\n",
    "import pandas as pd\n",
    "import os\n",
    "import numpy as np\n",
    "import matplotlib.pyplot as plt\n",
    "from PIL import Image\n",
    "import pandas as pd"
   ]
  },
  {
   "cell_type": "code",
   "execution_count": 4,
   "metadata": {
    "collapsed": true
   },
   "outputs": [],
   "source": [
    "import os\n",
    "import sys\n",
    "#import oauth2client.client"
   ]
  },
  {
   "cell_type": "code",
   "execution_count": 5,
   "metadata": {
    "collapsed": true
   },
   "outputs": [],
   "source": [
    "depth = 2\n",
    "model_type = 'Inception%d'%(depth)"
   ]
  },
  {
   "cell_type": "code",
   "execution_count": 6,
   "metadata": {
    "collapsed": true
   },
   "outputs": [],
   "source": [
    "label= pd.read_csv(\"label4.csv\", header=None)"
   ]
  },
  {
   "cell_type": "code",
   "execution_count": 7,
   "metadata": {},
   "outputs": [
    {
     "data": {
      "text/plain": [
       "(112118, 1)"
      ]
     },
     "execution_count": 7,
     "metadata": {},
     "output_type": "execute_result"
    }
   ],
   "source": [
    "label.shape"
   ]
  },
  {
   "cell_type": "code",
   "execution_count": 8,
   "metadata": {},
   "outputs": [
    {
     "data": {
      "text/plain": [
       "pandas.core.frame.DataFrame"
      ]
     },
     "execution_count": 8,
     "metadata": {},
     "output_type": "execute_result"
    }
   ],
   "source": [
    "type(label)"
   ]
  },
  {
   "cell_type": "code",
   "execution_count": 9,
   "metadata": {
    "collapsed": true
   },
   "outputs": [],
   "source": [
    "immatrix= pd.read_csv(\"Imagee_LungCT28.csv\", header=None)"
   ]
  },
  {
   "cell_type": "code",
   "execution_count": 10,
   "metadata": {},
   "outputs": [
    {
     "data": {
      "text/plain": [
       "(112118, 784)"
      ]
     },
     "execution_count": 10,
     "metadata": {},
     "output_type": "execute_result"
    }
   ],
   "source": [
    "immatrix.shape"
   ]
  },
  {
   "cell_type": "code",
   "execution_count": 11,
   "metadata": {},
   "outputs": [
    {
     "data": {
      "text/plain": [
       "pandas.core.frame.DataFrame"
      ]
     },
     "execution_count": 11,
     "metadata": {},
     "output_type": "execute_result"
    }
   ],
   "source": [
    "type(immatrix)"
   ]
  },
  {
   "cell_type": "code",
   "execution_count": 12,
   "metadata": {
    "collapsed": true
   },
   "outputs": [],
   "source": [
    "#from google.cloud import storage"
   ]
  },
  {
   "cell_type": "code",
   "execution_count": 13,
   "metadata": {
    "collapsed": true
   },
   "outputs": [],
   "source": [
    "data,Label = shuffle(immatrix,label, random_state=2)\n",
    "train_data = [data,Label]"
   ]
  },
  {
   "cell_type": "code",
   "execution_count": 14,
   "metadata": {
    "collapsed": true
   },
   "outputs": [],
   "source": [
    "#train_data"
   ]
  },
  {
   "cell_type": "code",
   "execution_count": 15,
   "metadata": {
    "collapsed": true
   },
   "outputs": [],
   "source": [
    "#batch_size = 1024\n",
    "epochs =110\n",
    "nb_classes =2\n",
    "nb_epoch =110\n",
    "img_rows, img_cols = 28, 28\n",
    "img_channels = 1\n",
    "nb_filters =32\n",
    "nb_filters2 =64\n",
    "nb_filters3 =96\n",
    "nb_filters4 =128\n",
    "nb_filters5 =256\n",
    "nb_pool = 2\n",
    "nb_conv = 3"
   ]
  },
  {
   "cell_type": "code",
   "execution_count": 16,
   "metadata": {
    "collapsed": true
   },
   "outputs": [],
   "source": [
    "def lr_schedule(epochs):\n",
    "\n",
    "    lr =0.025\n",
    "    return lr"
   ]
  },
  {
   "cell_type": "code",
   "execution_count": 17,
   "metadata": {},
   "outputs": [
    {
     "name": "stdout",
     "output_type": "stream",
     "text": [
      "112118\n",
      "112118\n"
     ]
    }
   ],
   "source": [
    "(X, y) = (train_data[0],train_data[1])\n",
    "print(X.shape[0])\n",
    "print(y.shape[0])"
   ]
  },
  {
   "cell_type": "code",
   "execution_count": 18,
   "metadata": {
    "collapsed": true
   },
   "outputs": [],
   "source": [
    "X_train, X_test, y_train, y_test = train_test_split(X, y, test_size=0.3, random_state=4)"
   ]
  },
  {
   "cell_type": "code",
   "execution_count": 19,
   "metadata": {},
   "outputs": [
    {
     "data": {
      "text/plain": [
       "(78482, 1)"
      ]
     },
     "execution_count": 19,
     "metadata": {},
     "output_type": "execute_result"
    }
   ],
   "source": [
    "y_train.shape"
   ]
  },
  {
   "cell_type": "code",
   "execution_count": 20,
   "metadata": {},
   "outputs": [
    {
     "name": "stdout",
     "output_type": "stream",
     "text": [
      "X_train shape: (78482, 28, 28, 1)\n",
      "X_test shape: (33636, 28, 28, 1)\n",
      "78482 train. samples\n",
      "33636 test. samples\n"
     ]
    }
   ],
   "source": [
    "X_train = X_train.values.reshape(X_train.shape[0], img_rows, img_cols, 1)\n",
    "X_test = X_test.values.reshape(X_test.shape[0], img_rows, img_cols, 1)\n",
    "\n",
    "X_train = X_train.astype('float32')\n",
    "X_test = X_test.astype('float32')\n",
    "\n",
    "X_train /=255\n",
    "X_test /=255\n",
    "\n",
    "print('X_train shape:', X_train.shape)\n",
    "print('X_test shape:', X_test.shape)\n",
    "\n",
    "print(X_train.shape[0], 'train. samples')\n",
    "print(X_test.shape[0], 'test. samples')"
   ]
  },
  {
   "cell_type": "code",
   "execution_count": 21,
   "metadata": {
    "collapsed": true
   },
   "outputs": [],
   "source": [
    "Y_train = np_utils.to_categorical(y_train)\n",
    "Y_test = np_utils.to_categorical(y_test)"
   ]
  },
  {
   "cell_type": "code",
   "execution_count": 22,
   "metadata": {},
   "outputs": [
    {
     "data": {
      "text/plain": [
       "(78482, 2)"
      ]
     },
     "execution_count": 22,
     "metadata": {},
     "output_type": "execute_result"
    }
   ],
   "source": [
    "Y_train\n",
    "Y_test\n",
    "shape(Y_train)"
   ]
  },
  {
   "cell_type": "code",
   "execution_count": 23,
   "metadata": {
    "collapsed": true
   },
   "outputs": [],
   "source": [
    "# Create imput\n",
    "input_img = Input(shape = (28, 28, 1))"
   ]
  },
  {
   "cell_type": "code",
   "execution_count": 24,
   "metadata": {
    "collapsed": true
   },
   "outputs": [],
   "source": [
    "# Create Volumes for the Inception module\n",
    "volume_1 = Conv2D(64, (1,1), padding='same', activation='relu')(input_img)\n",
    "\n",
    "volume_2 = Conv2D(96, (1,1), padding='same', activation='relu')(input_img)\n",
    "volume_2 = Conv2D(128, (3,3), padding='same', activation='relu')(volume_2)\n",
    "\n",
    "volume_3 = Conv2D(16, (1,1), padding='same', activation='relu')(input_img)\n",
    "volume_3 = Conv2D(32, (5,5), padding='same', activation='relu')(volume_3)\n",
    "\n",
    "volume_4 = MaxPooling2D((3,3), strides=(1,1), padding='same')(input_img)\n",
    "volume_4 = Conv2D(32, (1,1), padding='same', activation='relu')(volume_4)\n",
    "\n",
    "# Concatenate all volumes of the Inception module\n",
    "inception_module = keras.layers.concatenate([volume_1, volume_2, volume_3,\n",
    "                                             volume_4], axis = 3)"
   ]
  },
  {
   "cell_type": "code",
   "execution_count": 25,
   "metadata": {
    "collapsed": true
   },
   "outputs": [],
   "source": [
    "#input_img2= Input(shape = (256, 256, 3))\n",
    "input_img2= inception_module\n",
    "\n",
    "\n",
    "# Create Volumes for the Inception module\n",
    "volume_11 = Conv2D(64, (1,1), padding='same', activation='relu')(input_img2)\n",
    "\n",
    "volume_22 = Conv2D(96, (1,1), padding='same', activation='relu')(input_img2)\n",
    "volume_22 = Conv2D(128, (3,3), padding='same', activation='relu')(volume_22)\n",
    "\n",
    "volume_33 = Conv2D(16, (1,1), padding='same', activation='relu')(input_img2)\n",
    "volume_33 = Conv2D(32, (5,5), padding='same', activation='relu')(volume_33)\n",
    "\n",
    "volume_44 = MaxPooling2D((3,3), strides=(1,1), padding='same')(input_img2)\n",
    "volume_44 = Conv2D(32, (1,1), padding='same', activation='relu')(volume_44)\n",
    "\n",
    "# Concatenate all volumes of the Inception module\n",
    "inception_module2 = keras.layers.concatenate([volume_11, volume_22, volume_33,                                            \n",
    "                                               volume_44], axis = 3)"
   ]
  },
  {
   "cell_type": "code",
   "execution_count": 26,
   "metadata": {},
   "outputs": [
    {
     "data": {
      "text/plain": [
       "<keras.layers.core.Dropout at 0x7ff8fb8a17f0>"
      ]
     },
     "execution_count": 26,
     "metadata": {},
     "output_type": "execute_result"
    }
   ],
   "source": [
    "output = Flatten()(inception_module2)\n",
    "#output = Flatten()(inception_module)\n",
    "Dropout(0.4)\n",
    "#out    = Dense(10, activation='softmax')(output)"
   ]
  },
  {
   "cell_type": "code",
   "execution_count": 27,
   "metadata": {},
   "outputs": [
    {
     "data": {
      "text/plain": [
       "<tf.Tensor 'flatten_1/Reshape:0' shape=(?, ?) dtype=float32>"
      ]
     },
     "execution_count": 27,
     "metadata": {},
     "output_type": "execute_result"
    }
   ],
   "source": [
    "output"
   ]
  },
  {
   "cell_type": "code",
   "execution_count": 28,
   "metadata": {
    "collapsed": true
   },
   "outputs": [],
   "source": [
    "out    = Dense(2, input_dim=64,\n",
    "                kernel_regularizer=regularizers.l2(0.004),\n",
    "                activation='softmax')(output)"
   ]
  },
  {
   "cell_type": "code",
   "execution_count": 30,
   "metadata": {},
   "outputs": [
    {
     "data": {
      "text/plain": [
       "<tf.Tensor 'dense_1/Softmax:0' shape=(?, 2) dtype=float32>"
      ]
     },
     "execution_count": 30,
     "metadata": {},
     "output_type": "execute_result"
    }
   ],
   "source": [
    "out"
   ]
  },
  {
   "cell_type": "code",
   "execution_count": 31,
   "metadata": {},
   "outputs": [
    {
     "name": "stdout",
     "output_type": "stream",
     "text": [
      "__________________________________________________________________________________________________\n",
      "Layer (type)                    Output Shape         Param #     Connected to                     \n",
      "==================================================================================================\n",
      "input_1 (InputLayer)            (None, 28, 28, 1)    0                                            \n",
      "__________________________________________________________________________________________________\n",
      "conv2d_2 (Conv2D)               (None, 28, 28, 96)   192         input_1[0][0]                    \n",
      "__________________________________________________________________________________________________\n",
      "conv2d_4 (Conv2D)               (None, 28, 28, 16)   32          input_1[0][0]                    \n",
      "__________________________________________________________________________________________________\n",
      "max_pooling2d_1 (MaxPooling2D)  (None, 28, 28, 1)    0           input_1[0][0]                    \n",
      "__________________________________________________________________________________________________\n",
      "conv2d_1 (Conv2D)               (None, 28, 28, 64)   128         input_1[0][0]                    \n",
      "__________________________________________________________________________________________________\n",
      "conv2d_3 (Conv2D)               (None, 28, 28, 128)  110720      conv2d_2[0][0]                   \n",
      "__________________________________________________________________________________________________\n",
      "conv2d_5 (Conv2D)               (None, 28, 28, 32)   12832       conv2d_4[0][0]                   \n",
      "__________________________________________________________________________________________________\n",
      "conv2d_6 (Conv2D)               (None, 28, 28, 32)   64          max_pooling2d_1[0][0]            \n",
      "__________________________________________________________________________________________________\n",
      "concatenate_1 (Concatenate)     (None, 28, 28, 256)  0           conv2d_1[0][0]                   \n",
      "                                                                 conv2d_3[0][0]                   \n",
      "                                                                 conv2d_5[0][0]                   \n",
      "                                                                 conv2d_6[0][0]                   \n",
      "__________________________________________________________________________________________________\n",
      "conv2d_8 (Conv2D)               (None, 28, 28, 96)   24672       concatenate_1[0][0]              \n",
      "__________________________________________________________________________________________________\n",
      "conv2d_10 (Conv2D)              (None, 28, 28, 16)   4112        concatenate_1[0][0]              \n",
      "__________________________________________________________________________________________________\n",
      "max_pooling2d_2 (MaxPooling2D)  (None, 28, 28, 256)  0           concatenate_1[0][0]              \n",
      "__________________________________________________________________________________________________\n",
      "conv2d_7 (Conv2D)               (None, 28, 28, 64)   16448       concatenate_1[0][0]              \n",
      "__________________________________________________________________________________________________\n",
      "conv2d_9 (Conv2D)               (None, 28, 28, 128)  110720      conv2d_8[0][0]                   \n",
      "__________________________________________________________________________________________________\n",
      "conv2d_11 (Conv2D)              (None, 28, 28, 32)   12832       conv2d_10[0][0]                  \n",
      "__________________________________________________________________________________________________\n",
      "conv2d_12 (Conv2D)              (None, 28, 28, 32)   8224        max_pooling2d_2[0][0]            \n",
      "__________________________________________________________________________________________________\n",
      "concatenate_2 (Concatenate)     (None, 28, 28, 256)  0           conv2d_7[0][0]                   \n",
      "                                                                 conv2d_9[0][0]                   \n",
      "                                                                 conv2d_11[0][0]                  \n",
      "                                                                 conv2d_12[0][0]                  \n",
      "__________________________________________________________________________________________________\n",
      "flatten_1 (Flatten)             (None, 200704)       0           concatenate_2[0][0]              \n",
      "__________________________________________________________________________________________________\n",
      "dense_1 (Dense)                 (None, 2)            401410      flatten_1[0][0]                  \n",
      "==================================================================================================\n",
      "Total params: 702,386\n",
      "Trainable params: 702,386\n",
      "Non-trainable params: 0\n",
      "__________________________________________________________________________________________________\n",
      "Inception2\n"
     ]
    }
   ],
   "source": [
    "model = Model(inputs =input_img, outputs = out)\n",
    "#model = Model(inputs = input_img, outputs = out)\n",
    "model.summary()\n",
    "print(model_type)"
   ]
  },
  {
   "cell_type": "code",
   "execution_count": 32,
   "metadata": {
    "collapsed": true
   },
   "outputs": [],
   "source": [
    "from keras.optimizers import SGD, Adam\n",
    "\n",
    "lrate = 0.025\n",
    "decay = lrate/epochs\n",
    "sgd = SGD(lr=lrate, momentum=0.9, decay=decay, nesterov=False)\n",
    "model.compile(loss='categorical_crossentropy', optimizer=sgd, metrics=['accuracy'])\n",
    "\n",
    "#model.compile(loss='categorical_crossentropy', optimizer='adam', metrics=['accuracy'])"
   ]
  },
  {
   "cell_type": "code",
   "execution_count": 33,
   "metadata": {
    "collapsed": true
   },
   "outputs": [],
   "source": [
    "# Prepare model model saving directory.\n",
    "save_dir = os.path.join(os.getcwd(), 'saved_models')\n",
    "model_name = 'LUNGData_%s_model.{epoch:03d}.h5' % model_type\n",
    "if not os.path.isdir(save_dir):\n",
    "    os.makedirs(save_dir)\n",
    "filepath = os.path.join(save_dir, model_name)\n",
    "\n",
    "# Prepare callbacks for model saving and for learning rate adjustment.\n",
    "checkpoint = ModelCheckpoint(filepath=filepath, monitor='val_acc', verbose=1, save_best_only=True)\n",
    "\n",
    "lr_scheduler = LearningRateScheduler(lr_schedule)\n",
    "\n",
    "lr_reducer = ReduceLROnPlateau(factor=np.sqrt(0.1), cooldown=0, patience=5, min_lr=0.5e-6)\n",
    "\n",
    "callbacks = [checkpoint, lr_reducer, lr_scheduler]"
   ]
  },
  {
   "cell_type": "code",
   "execution_count": 34,
   "metadata": {},
   "outputs": [
    {
     "name": "stdout",
     "output_type": "stream",
     "text": [
      "WARNING:tensorflow:Variable *= will be deprecated. Use variable.assign_mul if you want assignment to the variable value or 'x = x * y' if you want a new python Tensor object.\n",
      "Train on 78482 samples, validate on 33636 samples\n",
      "Epoch 1/110\n",
      "78482/78482 [==============================] - 30s 387us/step - loss: 0.6877 - acc: 0.5865 - val_loss: 0.6414 - val_acc: 0.6224\n",
      "\n",
      "Epoch 00001: val_acc improved from -inf to 0.62240, saving model to /home/mhoseinmotamedi/saved_models/LUNGData_Inception2_model.001.h5\n",
      "Epoch 2/110\n",
      "78482/78482 [==============================] - 26s 337us/step - loss: 0.6373 - acc: 0.6424 - val_loss: 0.6202 - val_acc: 0.6630\n",
      "\n",
      "Epoch 00002: val_acc improved from 0.62240 to 0.66304, saving model to /home/mhoseinmotamedi/saved_models/LUNGData_Inception2_model.002.h5\n",
      "Epoch 3/110\n",
      "78482/78482 [==============================] - 26s 337us/step - loss: 0.6159 - acc: 0.6673 - val_loss: 0.6069 - val_acc: 0.6829\n",
      "\n",
      "Epoch 00003: val_acc improved from 0.66304 to 0.68287, saving model to /home/mhoseinmotamedi/saved_models/LUNGData_Inception2_model.003.h5\n",
      "Epoch 4/110\n",
      "78482/78482 [==============================] - 26s 337us/step - loss: 0.6057 - acc: 0.6800 - val_loss: 0.5963 - val_acc: 0.6826\n",
      "\n",
      "Epoch 00004: val_acc did not improve from 0.68287\n",
      "Epoch 5/110\n",
      "78482/78482 [==============================] - 26s 337us/step - loss: 0.5965 - acc: 0.6906 - val_loss: 0.5899 - val_acc: 0.7015\n",
      "\n",
      "Epoch 00005: val_acc improved from 0.68287 to 0.70154, saving model to /home/mhoseinmotamedi/saved_models/LUNGData_Inception2_model.005.h5\n",
      "Epoch 6/110\n",
      "78482/78482 [==============================] - 26s 337us/step - loss: 0.5852 - acc: 0.7024 - val_loss: 0.5794 - val_acc: 0.7036\n",
      "\n",
      "Epoch 00006: val_acc improved from 0.70154 to 0.70362, saving model to /home/mhoseinmotamedi/saved_models/LUNGData_Inception2_model.006.h5\n",
      "Epoch 7/110\n",
      "78482/78482 [==============================] - 26s 337us/step - loss: 0.5820 - acc: 0.7058 - val_loss: 0.5807 - val_acc: 0.7119\n",
      "\n",
      "Epoch 00007: val_acc improved from 0.70362 to 0.71195, saving model to /home/mhoseinmotamedi/saved_models/LUNGData_Inception2_model.007.h5\n",
      "Epoch 8/110\n",
      "78482/78482 [==============================] - 26s 337us/step - loss: 0.5806 - acc: 0.7057 - val_loss: 0.5775 - val_acc: 0.7010\n",
      "\n",
      "Epoch 00008: val_acc did not improve from 0.71195\n",
      "Epoch 9/110\n",
      "78482/78482 [==============================] - 26s 337us/step - loss: 0.5699 - acc: 0.7176 - val_loss: 0.5648 - val_acc: 0.7169\n",
      "\n",
      "Epoch 00009: val_acc improved from 0.71195 to 0.71694, saving model to /home/mhoseinmotamedi/saved_models/LUNGData_Inception2_model.009.h5\n",
      "Epoch 10/110\n",
      "78482/78482 [==============================] - 26s 337us/step - loss: 0.5659 - acc: 0.7201 - val_loss: 0.5613 - val_acc: 0.7242\n",
      "\n",
      "Epoch 00010: val_acc improved from 0.71694 to 0.72422, saving model to /home/mhoseinmotamedi/saved_models/LUNGData_Inception2_model.010.h5\n",
      "Epoch 11/110\n",
      "78482/78482 [==============================] - 26s 337us/step - loss: 0.5615 - acc: 0.7244 - val_loss: 0.5582 - val_acc: 0.7236\n",
      "\n",
      "Epoch 00011: val_acc did not improve from 0.72422\n",
      "Epoch 12/110\n",
      "78482/78482 [==============================] - 26s 337us/step - loss: 0.5605 - acc: 0.7241 - val_loss: 0.5559 - val_acc: 0.7254\n",
      "\n",
      "Epoch 00012: val_acc improved from 0.72422 to 0.72535, saving model to /home/mhoseinmotamedi/saved_models/LUNGData_Inception2_model.012.h5\n",
      "Epoch 13/110\n",
      "78482/78482 [==============================] - 26s 337us/step - loss: 0.5534 - acc: 0.7312 - val_loss: 0.5513 - val_acc: 0.7326\n",
      "\n",
      "Epoch 00013: val_acc improved from 0.72535 to 0.73261, saving model to /home/mhoseinmotamedi/saved_models/LUNGData_Inception2_model.013.h5\n",
      "Epoch 14/110\n",
      "78482/78482 [==============================] - 26s 337us/step - loss: 0.5527 - acc: 0.7310 - val_loss: 0.5557 - val_acc: 0.7209\n",
      "\n",
      "Epoch 00014: val_acc did not improve from 0.73261\n",
      "Epoch 15/110\n",
      "78482/78482 [==============================] - 26s 337us/step - loss: 0.5530 - acc: 0.7309 - val_loss: 0.5546 - val_acc: 0.7219\n",
      "\n",
      "Epoch 00015: val_acc did not improve from 0.73261\n",
      "Epoch 16/110\n",
      "78482/78482 [==============================] - 26s 337us/step - loss: 0.5434 - acc: 0.7396 - val_loss: 0.5542 - val_acc: 0.7189\n",
      "\n",
      "Epoch 00016: val_acc did not improve from 0.73261\n",
      "Epoch 17/110\n",
      "78482/78482 [==============================] - 26s 337us/step - loss: 0.5453 - acc: 0.7372 - val_loss: 0.5549 - val_acc: 0.7203\n",
      "\n",
      "Epoch 00017: val_acc did not improve from 0.73261\n",
      "Epoch 18/110\n",
      "78482/78482 [==============================] - 26s 337us/step - loss: 0.5401 - acc: 0.7420 - val_loss: 0.5476 - val_acc: 0.7339\n",
      "\n",
      "Epoch 00018: val_acc improved from 0.73261 to 0.73392, saving model to /home/mhoseinmotamedi/saved_models/LUNGData_Inception2_model.018.h5\n",
      "Epoch 19/110\n",
      "78482/78482 [==============================] - 26s 337us/step - loss: 0.5368 - acc: 0.7440 - val_loss: 0.5634 - val_acc: 0.7037\n",
      "\n",
      "Epoch 00019: val_acc did not improve from 0.73392\n",
      "Epoch 20/110\n",
      "78482/78482 [==============================] - 26s 337us/step - loss: 0.5380 - acc: 0.7437 - val_loss: 0.5429 - val_acc: 0.7323\n",
      "\n",
      "Epoch 00020: val_acc did not improve from 0.73392\n",
      "Epoch 21/110\n",
      "78482/78482 [==============================] - 26s 337us/step - loss: 0.5381 - acc: 0.7431 - val_loss: 0.5428 - val_acc: 0.7409\n",
      "\n",
      "Epoch 00021: val_acc improved from 0.73392 to 0.74093, saving model to /home/mhoseinmotamedi/saved_models/LUNGData_Inception2_model.021.h5\n",
      "Epoch 22/110\n",
      "78482/78482 [==============================] - 26s 337us/step - loss: 0.5322 - acc: 0.7487 - val_loss: 0.5407 - val_acc: 0.7372\n",
      "\n",
      "Epoch 00022: val_acc did not improve from 0.74093\n",
      "Epoch 23/110\n",
      "78482/78482 [==============================] - 26s 337us/step - loss: 0.5323 - acc: 0.7468 - val_loss: 0.5326 - val_acc: 0.7451\n",
      "\n",
      "Epoch 00023: val_acc improved from 0.74093 to 0.74509, saving model to /home/mhoseinmotamedi/saved_models/LUNGData_Inception2_model.023.h5\n",
      "Epoch 24/110\n",
      "78482/78482 [==============================] - 26s 337us/step - loss: 0.5286 - acc: 0.7506 - val_loss: 0.5335 - val_acc: 0.7460\n",
      "\n",
      "Epoch 00024: val_acc improved from 0.74509 to 0.74602, saving model to /home/mhoseinmotamedi/saved_models/LUNGData_Inception2_model.024.h5\n",
      "Epoch 25/110\n",
      "78482/78482 [==============================] - 26s 337us/step - loss: 0.5261 - acc: 0.7537 - val_loss: 0.5452 - val_acc: 0.7247\n",
      "\n",
      "Epoch 00025: val_acc did not improve from 0.74602\n",
      "Epoch 26/110\n",
      "78482/78482 [==============================] - 26s 337us/step - loss: 0.5252 - acc: 0.7527 - val_loss: 0.5380 - val_acc: 0.7522\n",
      "\n",
      "Epoch 00026: val_acc improved from 0.74602 to 0.75217, saving model to /home/mhoseinmotamedi/saved_models/LUNGData_Inception2_model.026.h5\n",
      "Epoch 27/110\n",
      "78482/78482 [==============================] - 26s 338us/step - loss: 0.5245 - acc: 0.7544 - val_loss: 0.5573 - val_acc: 0.7371\n",
      "\n",
      "Epoch 00027: val_acc did not improve from 0.75217\n",
      "Epoch 28/110\n",
      "78482/78482 [==============================] - 26s 337us/step - loss: 0.5231 - acc: 0.7554 - val_loss: 0.5348 - val_acc: 0.7509\n",
      "\n",
      "Epoch 00028: val_acc did not improve from 0.75217\n",
      "Epoch 29/110\n",
      "78482/78482 [==============================] - 26s 337us/step - loss: 0.5190 - acc: 0.7586 - val_loss: 0.5283 - val_acc: 0.7501\n",
      "\n",
      "Epoch 00029: val_acc did not improve from 0.75217\n",
      "Epoch 30/110\n",
      "78482/78482 [==============================] - 26s 337us/step - loss: 0.5162 - acc: 0.7596 - val_loss: 0.5259 - val_acc: 0.7567\n",
      "\n",
      "Epoch 00030: val_acc improved from 0.75217 to 0.75669, saving model to /home/mhoseinmotamedi/saved_models/LUNGData_Inception2_model.030.h5\n",
      "Epoch 31/110\n",
      "78482/78482 [==============================] - 26s 338us/step - loss: 0.5175 - acc: 0.7593 - val_loss: 0.5279 - val_acc: 0.7446\n",
      "\n",
      "Epoch 00031: val_acc did not improve from 0.75669\n",
      "Epoch 32/110\n",
      "78482/78482 [==============================] - 26s 337us/step - loss: 0.5108 - acc: 0.7636 - val_loss: 0.5389 - val_acc: 0.7548\n",
      "\n",
      "Epoch 00032: val_acc did not improve from 0.75669\n",
      "Epoch 33/110\n",
      "78482/78482 [==============================] - 26s 337us/step - loss: 0.5130 - acc: 0.7619 - val_loss: 0.5186 - val_acc: 0.7623\n",
      "\n",
      "Epoch 00033: val_acc improved from 0.75669 to 0.76228, saving model to /home/mhoseinmotamedi/saved_models/LUNGData_Inception2_model.033.h5\n",
      "Epoch 34/110\n",
      "78482/78482 [==============================] - 26s 337us/step - loss: 0.5068 - acc: 0.7684 - val_loss: 0.5242 - val_acc: 0.7478\n"
     ]
    },
    {
     "name": "stdout",
     "output_type": "stream",
     "text": [
      "\n",
      "Epoch 00034: val_acc did not improve from 0.76228\n",
      "Epoch 35/110\n",
      "78482/78482 [==============================] - 26s 337us/step - loss: 0.5055 - acc: 0.7675 - val_loss: 0.5176 - val_acc: 0.7566\n",
      "\n",
      "Epoch 00035: val_acc did not improve from 0.76228\n",
      "Epoch 36/110\n",
      "78482/78482 [==============================] - 26s 337us/step - loss: 0.5033 - acc: 0.7692 - val_loss: 0.5228 - val_acc: 0.7594\n",
      "\n",
      "Epoch 00036: val_acc did not improve from 0.76228\n",
      "Epoch 37/110\n",
      "78482/78482 [==============================] - 26s 337us/step - loss: 0.5024 - acc: 0.7691 - val_loss: 0.5163 - val_acc: 0.7634\n",
      "\n",
      "Epoch 00037: val_acc improved from 0.76228 to 0.76338, saving model to /home/mhoseinmotamedi/saved_models/LUNGData_Inception2_model.037.h5\n",
      "Epoch 38/110\n",
      "78482/78482 [==============================] - 26s 337us/step - loss: 0.5048 - acc: 0.7686 - val_loss: 0.5211 - val_acc: 0.7510\n",
      "\n",
      "Epoch 00038: val_acc did not improve from 0.76338\n",
      "Epoch 39/110\n",
      "78482/78482 [==============================] - 26s 337us/step - loss: 0.5001 - acc: 0.7714 - val_loss: 0.5203 - val_acc: 0.7651\n",
      "\n",
      "Epoch 00039: val_acc improved from 0.76338 to 0.76510, saving model to /home/mhoseinmotamedi/saved_models/LUNGData_Inception2_model.039.h5\n",
      "Epoch 40/110\n",
      "78482/78482 [==============================] - 26s 337us/step - loss: 0.4982 - acc: 0.7736 - val_loss: 0.5345 - val_acc: 0.7576\n",
      "\n",
      "Epoch 00040: val_acc did not improve from 0.76510\n",
      "Epoch 41/110\n",
      "78482/78482 [==============================] - 26s 337us/step - loss: 0.4971 - acc: 0.7743 - val_loss: 0.5129 - val_acc: 0.7644\n",
      "\n",
      "Epoch 00041: val_acc did not improve from 0.76510\n",
      "Epoch 42/110\n",
      "78482/78482 [==============================] - 26s 337us/step - loss: 0.4951 - acc: 0.7752 - val_loss: 0.5177 - val_acc: 0.7567\n",
      "\n",
      "Epoch 00042: val_acc did not improve from 0.76510\n",
      "Epoch 43/110\n",
      "78482/78482 [==============================] - 26s 338us/step - loss: 0.4976 - acc: 0.7742 - val_loss: 0.5141 - val_acc: 0.7607\n",
      "\n",
      "Epoch 00043: val_acc did not improve from 0.76510\n",
      "Epoch 44/110\n",
      "78482/78482 [==============================] - 26s 337us/step - loss: 0.4907 - acc: 0.7791 - val_loss: 0.5136 - val_acc: 0.7601\n",
      "\n",
      "Epoch 00044: val_acc did not improve from 0.76510\n",
      "Epoch 45/110\n",
      "78482/78482 [==============================] - 26s 338us/step - loss: 0.4901 - acc: 0.7783 - val_loss: 0.5161 - val_acc: 0.7694\n",
      "\n",
      "Epoch 00045: val_acc improved from 0.76510 to 0.76938, saving model to /home/mhoseinmotamedi/saved_models/LUNGData_Inception2_model.045.h5\n",
      "Epoch 46/110\n",
      "78482/78482 [==============================] - 26s 337us/step - loss: 0.4970 - acc: 0.7764 - val_loss: 0.5097 - val_acc: 0.7722\n",
      "\n",
      "Epoch 00046: val_acc improved from 0.76938 to 0.77224, saving model to /home/mhoseinmotamedi/saved_models/LUNGData_Inception2_model.046.h5\n",
      "Epoch 47/110\n",
      "78482/78482 [==============================] - 26s 337us/step - loss: 0.4862 - acc: 0.7822 - val_loss: 0.5653 - val_acc: 0.7423\n",
      "\n",
      "Epoch 00047: val_acc did not improve from 0.77224\n",
      "Epoch 48/110\n",
      "78482/78482 [==============================] - 26s 337us/step - loss: 0.4895 - acc: 0.7792 - val_loss: 0.5110 - val_acc: 0.7630\n",
      "\n",
      "Epoch 00048: val_acc did not improve from 0.77224\n",
      "Epoch 49/110\n",
      "78482/78482 [==============================] - 26s 337us/step - loss: 0.4898 - acc: 0.7780 - val_loss: 0.5207 - val_acc: 0.7669\n",
      "\n",
      "Epoch 00049: val_acc did not improve from 0.77224\n",
      "Epoch 50/110\n",
      "78482/78482 [==============================] - 26s 337us/step - loss: 0.4860 - acc: 0.7807 - val_loss: 0.5122 - val_acc: 0.7675\n",
      "\n",
      "Epoch 00050: val_acc did not improve from 0.77224\n",
      "Epoch 51/110\n",
      "78482/78482 [==============================] - 26s 337us/step - loss: 0.4867 - acc: 0.7820 - val_loss: 0.5109 - val_acc: 0.7681\n",
      "\n",
      "Epoch 00051: val_acc did not improve from 0.77224\n",
      "Epoch 52/110\n",
      "78482/78482 [==============================] - 26s 337us/step - loss: 0.4870 - acc: 0.7810 - val_loss: 0.5192 - val_acc: 0.7657\n",
      "\n",
      "Epoch 00052: val_acc did not improve from 0.77224\n",
      "Epoch 53/110\n",
      "78482/78482 [==============================] - 26s 338us/step - loss: 0.4848 - acc: 0.7838 - val_loss: 0.5274 - val_acc: 0.7481\n",
      "\n",
      "Epoch 00053: val_acc did not improve from 0.77224\n",
      "Epoch 54/110\n",
      "78482/78482 [==============================] - 26s 337us/step - loss: 0.4778 - acc: 0.7897 - val_loss: 0.5101 - val_acc: 0.7691\n",
      "\n",
      "Epoch 00054: val_acc did not improve from 0.77224\n",
      "Epoch 55/110\n",
      "78482/78482 [==============================] - 26s 337us/step - loss: 0.4834 - acc: 0.7845 - val_loss: 0.5134 - val_acc: 0.7639\n",
      "\n",
      "Epoch 00055: val_acc did not improve from 0.77224\n",
      "Epoch 56/110\n",
      "78482/78482 [==============================] - 26s 337us/step - loss: 0.4844 - acc: 0.7847 - val_loss: 0.5143 - val_acc: 0.7592\n",
      "\n",
      "Epoch 00056: val_acc did not improve from 0.77224\n",
      "Epoch 57/110\n",
      "78482/78482 [==============================] - 26s 338us/step - loss: 0.4777 - acc: 0.7890 - val_loss: 0.5170 - val_acc: 0.7576\n",
      "\n",
      "Epoch 00057: val_acc did not improve from 0.77224\n",
      "Epoch 58/110\n",
      "78482/78482 [==============================] - 26s 337us/step - loss: 0.4758 - acc: 0.7898 - val_loss: 0.5198 - val_acc: 0.7687\n",
      "\n",
      "Epoch 00058: val_acc did not improve from 0.77224\n",
      "Epoch 59/110\n",
      "78482/78482 [==============================] - 26s 338us/step - loss: 0.4770 - acc: 0.7889 - val_loss: 0.5185 - val_acc: 0.7712\n",
      "\n",
      "Epoch 00059: val_acc did not improve from 0.77224\n",
      "Epoch 60/110\n",
      "78482/78482 [==============================] - 26s 337us/step - loss: 0.4741 - acc: 0.7915 - val_loss: 0.5279 - val_acc: 0.7677\n",
      "\n",
      "Epoch 00060: val_acc did not improve from 0.77224\n",
      "Epoch 61/110\n",
      "78482/78482 [==============================] - 26s 337us/step - loss: 0.4719 - acc: 0.7928 - val_loss: 0.5172 - val_acc: 0.7678\n",
      "\n",
      "Epoch 00061: val_acc did not improve from 0.77224\n",
      "Epoch 62/110\n",
      "78482/78482 [==============================] - 26s 337us/step - loss: 0.4698 - acc: 0.7946 - val_loss: 0.5212 - val_acc: 0.7641\n",
      "\n",
      "Epoch 00062: val_acc did not improve from 0.77224\n",
      "Epoch 63/110\n",
      "78482/78482 [==============================] - 26s 337us/step - loss: 0.4675 - acc: 0.7965 - val_loss: 0.5354 - val_acc: 0.7419\n",
      "\n",
      "Epoch 00063: val_acc did not improve from 0.77224\n",
      "Epoch 64/110\n",
      "78482/78482 [==============================] - 26s 338us/step - loss: 0.4795 - acc: 0.7885 - val_loss: 0.5261 - val_acc: 0.7523\n",
      "\n",
      "Epoch 00064: val_acc did not improve from 0.77224\n",
      "Epoch 65/110\n",
      "78482/78482 [==============================] - 26s 338us/step - loss: 0.4665 - acc: 0.7963 - val_loss: 0.5658 - val_acc: 0.7224\n",
      "\n",
      "Epoch 00065: val_acc did not improve from 0.77224\n",
      "Epoch 66/110\n",
      "78482/78482 [==============================] - 26s 338us/step - loss: 0.4708 - acc: 0.7946 - val_loss: 0.5117 - val_acc: 0.7702\n",
      "\n",
      "Epoch 00066: val_acc did not improve from 0.77224\n",
      "Epoch 67/110\n",
      "78482/78482 [==============================] - 26s 337us/step - loss: 0.4653 - acc: 0.7978 - val_loss: 0.5153 - val_acc: 0.7697\n",
      "\n",
      "Epoch 00067: val_acc did not improve from 0.77224\n",
      "Epoch 68/110\n",
      "78482/78482 [==============================] - 26s 337us/step - loss: 0.4684 - acc: 0.7970 - val_loss: 0.5129 - val_acc: 0.7667\n",
      "\n",
      "Epoch 00068: val_acc did not improve from 0.77224\n",
      "Epoch 69/110\n",
      "78482/78482 [==============================] - 26s 337us/step - loss: 0.4649 - acc: 0.7988 - val_loss: 0.5145 - val_acc: 0.7646\n",
      "\n",
      "Epoch 00069: val_acc did not improve from 0.77224\n",
      "Epoch 70/110\n",
      "78482/78482 [==============================] - 26s 337us/step - loss: 0.4588 - acc: 0.8027 - val_loss: 0.5104 - val_acc: 0.7702\n",
      "\n",
      "Epoch 00070: val_acc did not improve from 0.77224\n",
      "Epoch 71/110\n",
      "78482/78482 [==============================] - 26s 337us/step - loss: 0.4617 - acc: 0.8010 - val_loss: 0.5149 - val_acc: 0.7642\n",
      "\n",
      "Epoch 00071: val_acc did not improve from 0.77224\n",
      "Epoch 72/110\n",
      "78482/78482 [==============================] - 26s 337us/step - loss: 0.4652 - acc: 0.7986 - val_loss: 0.5381 - val_acc: 0.7662\n",
      "\n",
      "Epoch 00072: val_acc did not improve from 0.77224\n",
      "Epoch 73/110\n",
      "78482/78482 [==============================] - 26s 337us/step - loss: 0.4583 - acc: 0.8024 - val_loss: 0.5165 - val_acc: 0.7670\n",
      "\n",
      "Epoch 00073: val_acc did not improve from 0.77224\n",
      "Epoch 74/110\n",
      "78482/78482 [==============================] - 26s 337us/step - loss: 0.4577 - acc: 0.8031 - val_loss: 0.5134 - val_acc: 0.7690\n",
      "\n",
      "Epoch 00074: val_acc did not improve from 0.77224\n",
      "Epoch 75/110\n",
      "78482/78482 [==============================] - 26s 338us/step - loss: 0.4595 - acc: 0.8025 - val_loss: 0.5383 - val_acc: 0.7650\n"
     ]
    },
    {
     "name": "stdout",
     "output_type": "stream",
     "text": [
      "\n",
      "Epoch 00075: val_acc did not improve from 0.77224\n",
      "Epoch 76/110\n",
      "78482/78482 [==============================] - 27s 338us/step - loss: 0.4562 - acc: 0.8048 - val_loss: 0.5194 - val_acc: 0.7698\n",
      "\n",
      "Epoch 00076: val_acc did not improve from 0.77224\n",
      "Epoch 77/110\n",
      "78482/78482 [==============================] - 27s 339us/step - loss: 0.4512 - acc: 0.8082 - val_loss: 0.5239 - val_acc: 0.7696\n",
      "\n",
      "Epoch 00077: val_acc did not improve from 0.77224\n",
      "Epoch 78/110\n",
      "78482/78482 [==============================] - 27s 338us/step - loss: 0.4594 - acc: 0.8027 - val_loss: 0.5886 - val_acc: 0.7109\n",
      "\n",
      "Epoch 00078: val_acc did not improve from 0.77224\n",
      "Epoch 79/110\n",
      "78482/78482 [==============================] - 26s 337us/step - loss: 0.4501 - acc: 0.8091 - val_loss: 0.5174 - val_acc: 0.7730\n",
      "\n",
      "Epoch 00079: val_acc improved from 0.77224 to 0.77304, saving model to /home/mhoseinmotamedi/saved_models/LUNGData_Inception2_model.079.h5\n",
      "Epoch 80/110\n",
      "78482/78482 [==============================] - 26s 337us/step - loss: 0.4524 - acc: 0.8073 - val_loss: 0.5435 - val_acc: 0.7630\n",
      "\n",
      "Epoch 00080: val_acc did not improve from 0.77304\n",
      "Epoch 81/110\n",
      "78482/78482 [==============================] - 26s 337us/step - loss: 0.4464 - acc: 0.8114 - val_loss: 0.5201 - val_acc: 0.7719\n",
      "\n",
      "Epoch 00081: val_acc did not improve from 0.77304\n",
      "Epoch 82/110\n",
      "78482/78482 [==============================] - 26s 337us/step - loss: 0.4470 - acc: 0.8117 - val_loss: 0.5210 - val_acc: 0.7711\n",
      "\n",
      "Epoch 00082: val_acc did not improve from 0.77304\n",
      "Epoch 83/110\n",
      "78482/78482 [==============================] - 26s 337us/step - loss: 0.4444 - acc: 0.8134 - val_loss: 0.5430 - val_acc: 0.7512\n",
      "\n",
      "Epoch 00083: val_acc did not improve from 0.77304\n",
      "Epoch 84/110\n",
      "78482/78482 [==============================] - 26s 337us/step - loss: 0.4403 - acc: 0.8156 - val_loss: 0.5255 - val_acc: 0.7643\n",
      "\n",
      "Epoch 00084: val_acc did not improve from 0.77304\n",
      "Epoch 85/110\n",
      "78482/78482 [==============================] - 26s 337us/step - loss: 0.4387 - acc: 0.8162 - val_loss: 0.5327 - val_acc: 0.7590\n",
      "\n",
      "Epoch 00085: val_acc did not improve from 0.77304\n",
      "Epoch 86/110\n",
      "78482/78482 [==============================] - 26s 337us/step - loss: 0.4428 - acc: 0.8151 - val_loss: 0.6914 - val_acc: 0.7011\n",
      "\n",
      "Epoch 00086: val_acc did not improve from 0.77304\n",
      "Epoch 87/110\n",
      "78482/78482 [==============================] - 26s 337us/step - loss: 0.4573 - acc: 0.8074 - val_loss: 0.5278 - val_acc: 0.7738\n",
      "\n",
      "Epoch 00087: val_acc improved from 0.77304 to 0.77375, saving model to /home/mhoseinmotamedi/saved_models/LUNGData_Inception2_model.087.h5\n",
      "Epoch 88/110\n",
      "78482/78482 [==============================] - 27s 338us/step - loss: 0.4400 - acc: 0.8170 - val_loss: 0.5252 - val_acc: 0.7684\n",
      "\n",
      "Epoch 00088: val_acc did not improve from 0.77375\n",
      "Epoch 89/110\n",
      "78482/78482 [==============================] - 27s 339us/step - loss: 0.4341 - acc: 0.8206 - val_loss: 0.5398 - val_acc: 0.7540\n",
      "\n",
      "Epoch 00089: val_acc did not improve from 0.77375\n",
      "Epoch 90/110\n",
      "78482/78482 [==============================] - 26s 337us/step - loss: 0.4314 - acc: 0.8225 - val_loss: 0.5392 - val_acc: 0.7538\n",
      "\n",
      "Epoch 00090: val_acc did not improve from 0.77375\n",
      "Epoch 91/110\n",
      "78482/78482 [==============================] - 26s 337us/step - loss: 0.4322 - acc: 0.8214 - val_loss: 0.5270 - val_acc: 0.7675\n",
      "\n",
      "Epoch 00091: val_acc did not improve from 0.77375\n",
      "Epoch 92/110\n",
      "78482/78482 [==============================] - 26s 337us/step - loss: 0.4320 - acc: 0.8226 - val_loss: 0.5384 - val_acc: 0.7711\n",
      "\n",
      "Epoch 00092: val_acc did not improve from 0.77375\n",
      "Epoch 93/110\n",
      "78482/78482 [==============================] - 27s 338us/step - loss: 0.4334 - acc: 0.8213 - val_loss: 0.5330 - val_acc: 0.7700\n",
      "\n",
      "Epoch 00093: val_acc did not improve from 0.77375\n",
      "Epoch 94/110\n",
      "78482/78482 [==============================] - 26s 337us/step - loss: 0.4287 - acc: 0.8250 - val_loss: 0.5914 - val_acc: 0.7530\n",
      "\n",
      "Epoch 00094: val_acc did not improve from 0.77375\n",
      "Epoch 95/110\n",
      "78482/78482 [==============================] - 26s 337us/step - loss: 0.4342 - acc: 0.8217 - val_loss: 0.5372 - val_acc: 0.7679\n",
      "\n",
      "Epoch 00095: val_acc did not improve from 0.77375\n",
      "Epoch 96/110\n",
      "78482/78482 [==============================] - 26s 337us/step - loss: 0.4243 - acc: 0.8288 - val_loss: 0.5423 - val_acc: 0.7615\n",
      "\n",
      "Epoch 00096: val_acc did not improve from 0.77375\n",
      "Epoch 97/110\n",
      "78482/78482 [==============================] - 26s 337us/step - loss: 0.4250 - acc: 0.8277 - val_loss: 0.5712 - val_acc: 0.7456\n",
      "\n",
      "Epoch 00097: val_acc did not improve from 0.77375\n",
      "Epoch 98/110\n",
      "78482/78482 [==============================] - 26s 337us/step - loss: 0.4199 - acc: 0.8323 - val_loss: 0.5492 - val_acc: 0.7605\n",
      "\n",
      "Epoch 00098: val_acc did not improve from 0.77375\n",
      "Epoch 99/110\n",
      "78482/78482 [==============================] - 26s 337us/step - loss: 0.4198 - acc: 0.8317 - val_loss: 0.5458 - val_acc: 0.7677\n",
      "\n",
      "Epoch 00099: val_acc did not improve from 0.77375\n",
      "Epoch 100/110\n",
      "78482/78482 [==============================] - 26s 337us/step - loss: 0.4251 - acc: 0.8277 - val_loss: 0.5476 - val_acc: 0.7615\n",
      "\n",
      "Epoch 00100: val_acc did not improve from 0.77375\n",
      "Epoch 101/110\n",
      "78482/78482 [==============================] - 26s 337us/step - loss: 0.4210 - acc: 0.8310 - val_loss: 0.5470 - val_acc: 0.7586\n",
      "\n",
      "Epoch 00101: val_acc did not improve from 0.77375\n",
      "Epoch 102/110\n",
      "78482/78482 [==============================] - 27s 339us/step - loss: 0.4156 - acc: 0.8339 - val_loss: 0.5559 - val_acc: 0.7559\n",
      "\n",
      "Epoch 00102: val_acc did not improve from 0.77375\n",
      "Epoch 103/110\n",
      "78482/78482 [==============================] - 27s 339us/step - loss: 0.4190 - acc: 0.8321 - val_loss: 0.5487 - val_acc: 0.7607\n",
      "\n",
      "Epoch 00103: val_acc did not improve from 0.77375\n",
      "Epoch 104/110\n",
      "78482/78482 [==============================] - 27s 340us/step - loss: 0.4173 - acc: 0.8327 - val_loss: 0.5813 - val_acc: 0.7396\n",
      "\n",
      "Epoch 00104: val_acc did not improve from 0.77375\n",
      "Epoch 105/110\n",
      "78482/78482 [==============================] - 27s 339us/step - loss: 0.4184 - acc: 0.8329 - val_loss: 0.5827 - val_acc: 0.7587\n",
      "\n",
      "Epoch 00105: val_acc did not improve from 0.77375\n",
      "Epoch 106/110\n",
      "78482/78482 [==============================] - 27s 339us/step - loss: 0.4182 - acc: 0.8337 - val_loss: 0.5660 - val_acc: 0.7499\n",
      "\n",
      "Epoch 00106: val_acc did not improve from 0.77375\n",
      "Epoch 107/110\n",
      "78482/78482 [==============================] - 26s 337us/step - loss: 0.4137 - acc: 0.8372 - val_loss: 0.5686 - val_acc: 0.7605\n",
      "\n",
      "Epoch 00107: val_acc did not improve from 0.77375\n",
      "Epoch 108/110\n",
      "78482/78482 [==============================] - 26s 337us/step - loss: 0.4076 - acc: 0.8424 - val_loss: 0.6192 - val_acc: 0.7425\n",
      "\n",
      "Epoch 00108: val_acc did not improve from 0.77375\n",
      "Epoch 109/110\n",
      "78482/78482 [==============================] - 26s 337us/step - loss: 0.4051 - acc: 0.8434 - val_loss: 0.5664 - val_acc: 0.7644\n",
      "\n",
      "Epoch 00109: val_acc did not improve from 0.77375\n",
      "Epoch 110/110\n",
      "78482/78482 [==============================] - 26s 338us/step - loss: 0.4086 - acc: 0.8406 - val_loss: 0.6049 - val_acc: 0.7517\n",
      "\n",
      "Epoch 00110: val_acc did not improve from 0.77375\n"
     ]
    }
   ],
   "source": [
    "hist = model.fit(X_train, Y_train, validation_data=(X_test, Y_test), epochs=epochs, batch_size=1024, shuffle=True, callbacks=callbacks)"
   ]
  },
  {
   "cell_type": "code",
   "execution_count": 35,
   "metadata": {
    "collapsed": true
   },
   "outputs": [],
   "source": [
    "import matplotlib.pyplot as plt\n",
    "history =hist\n",
    "pd.DataFrame(history.history).to_csv(\"history2_class.csv\")"
   ]
  },
  {
   "cell_type": "code",
   "execution_count": 36,
   "metadata": {},
   "outputs": [
    {
     "name": "stdout",
     "output_type": "stream",
     "text": [
      "Accuracy: 75.17%\n"
     ]
    }
   ],
   "source": [
    "scores = model.evaluate(X_test, Y_test, verbose=0)\n",
    "print(\"Accuracy: %.2f%%\" % (scores[1]*100))"
   ]
  },
  {
   "cell_type": "code",
   "execution_count": 37,
   "metadata": {},
   "outputs": [
    {
     "name": "stdout",
     "output_type": "stream",
     "text": [
      "33636/33636 [==============================] - 6s 165us/step\n",
      "Test loss: 0.6048943163282821\n",
      "Test accuracy: 0.7517243429658699\n"
     ]
    }
   ],
   "source": [
    "scores = model.evaluate(X_test, Y_test, verbose=1)\n",
    "print('Test loss:', scores[0])\n",
    "print('Test accuracy:', scores[1])"
   ]
  },
  {
   "cell_type": "code",
   "execution_count": 64,
   "metadata": {},
   "outputs": [
    {
     "data": {
      "image/png": "[encoded data removed]",
      "text/plain": [
       "<Figure size 432x288 with 1 Axes>"
      ]
     },
     "metadata": {},
     "output_type": "display_data"
    },
    {
     "data": {
      "image/png": "[encoded data removed]",
      "text/plain": [
       "<Figure size 432x288 with 1 Axes>"
      ]
     },
     "metadata": {},
     "output_type": "display_data"
    }
   ],
   "source": [
    "plt.plot(history.history['acc'])\n",
    "plt.plot(history.history['val_acc'])\n",
    "plt.title('model accuracy Two-level Inception moules')\n",
    "plt.ylabel('accuracy')\n",
    "plt.xlabel('epoch')\n",
    "plt.legend(['train', 'test'], loc='upper left')\n",
    "plt.show()\n",
    "# summarize history for loss\n",
    "plt.plot(history.history['loss'])\n",
    "plt.plot(history.history['val_loss'])\n",
    "plt.title('model loss Two-level Inception models ')\n",
    "plt.ylabel('loss')\n",
    "plt.xlabel('epoch')\n",
    "plt.legend(['train', 'test'], loc='upper left')\n",
    "plt.show()"
   ]
  },
  {
   "cell_type": "code",
   "execution_count": 61,
   "metadata": {},
   "outputs": [
    {
     "data": {
      "text/plain": [
       "array([0, 1, 1, ..., 1, 1, 0])"
      ]
     },
     "execution_count": 61,
     "metadata": {},
     "output_type": "execute_result"
    }
   ],
   "source": [
    "y_pred.argmax(axis=1)"
   ]
  },
  {
   "cell_type": "code",
   "execution_count": 62,
   "metadata": {},
   "outputs": [
    {
     "data": {
      "text/plain": [
       "array([0, 1, 0, ..., 1, 1, 0])"
      ]
     },
     "execution_count": 62,
     "metadata": {},
     "output_type": "execute_result"
    }
   ],
   "source": [
    "Y_test.argmax(axis=1)"
   ]
  },
  {
   "cell_type": "code",
   "execution_count": 63,
   "metadata": {},
   "outputs": [
    {
     "name": "stdout",
     "output_type": "stream",
     "text": [
      "[[11764  6383]\n",
      " [ 1968 13521]]\n"
     ]
    },
    {
     "data": {
      "image/png": "[encoded data removed]",
      "text/plain": [
       "<Figure size 288x288 with 2 Axes>"
      ]
     },
     "metadata": {},
     "output_type": "display_data"
    },
    {
     "name": "stdout",
     "output_type": "stream",
     "text": [
      "             precision    recall  f1-score   support\n",
      "\n",
      "          0       0.86      0.65      0.74     18147\n",
      "          1       0.68      0.87      0.76     15489\n",
      "\n",
      "avg / total       0.78      0.75      0.75     33636\n",
      "\n",
      "[[11764  6383]\n",
      " [ 1968 13521]]\n"
     ]
    }
   ],
   "source": [
    "y_pred = model.predict(X_test)\n",
    "y_pred2 = (y_pred > 0.5)\n",
    "from sklearn.metrics import confusion_matrix\n",
    "#cm = confusion_matrix(Y_test, y_pred2)\n",
    "cm=confusion_matrix(Y_test.argmax(axis=1), y_pred.argmax(axis=1))\n",
    "\n",
    "print (cm)\n",
    "\n",
    "# Show confusion matrix in a separate window\n",
    "plt.matshow(cm)\n",
    "plt.title('Confusion matrix')\n",
    "plt.colorbar()\n",
    "plt.ylabel('True label')\n",
    "plt.xlabel('Predicted label')\n",
    "plt.show()\n",
    "# summarize the fit of the model\n",
    "from sklearn import metrics\n",
    "print(metrics.classification_report(Y_test.argmax(axis=1), y_pred.argmax(axis=1)))\n",
    "print(metrics.confusion_matrix(Y_test.argmax(axis=1), y_pred.argmax(axis=1)));\n"
   ]
  },
  {
   "cell_type": "code",
   "execution_count": 66,
   "metadata": {},
   "outputs": [
    {
     "name": "stdout",
     "output_type": "stream",
     "text": [
      "Confusion matrix, without normalization\n",
      "[[11764  6383]\n",
      " [ 1968 13521]]\n",
      "Normalized confusion matrix\n",
      "[[0.65 0.35]\n",
      " [0.13 0.87]]\n"
     ]
    },
    {
     "data": {
      "image/png": "[encoded data removed]",
      "text/plain": [
       "<Figure size 432x288 with 2 Axes>"
      ]
     },
     "metadata": {},
     "output_type": "display_data"
    },
    {
     "data": {
      "image/png": "[encoded data removed]",
      "text/plain": [
       "<Figure size 432x288 with 2 Axes>"
      ]
     },
     "metadata": {},
     "output_type": "display_data"
    },
    {
     "name": "stdout",
     "output_type": "stream",
     "text": [
      "Confusion matrix, without normalization\n",
      "[[11764  6383]\n",
      " [ 1968 13521]]\n"
     ]
    },
    {
     "data": {
      "image/png": "[encoded data removed]",
      "text/plain": [
       "<Figure size 432x288 with 2 Axes>"
      ]
     },
     "metadata": {},
     "output_type": "display_data"
    }
   ],
   "source": [
    "import itertools\n",
    "classes = ['No Disease', 'Lung Disease']\n",
    "\n",
    "\n",
    "def plot_confusion_matrix(cm, classes,\n",
    "                          normalize=False,\n",
    "                          title='Confusion matrix',\n",
    "                          cmap=plt.cm.Blues):\n",
    "    \"\"\"\n",
    "    This function prints and plots the confusion matrix.\n",
    "    Normalization can be applied by setting `normalize=True`.\n",
    "    \"\"\"\n",
    "    if normalize:\n",
    "        cm = cm.astype('float') / cm.sum(axis=1)[:, np.newaxis]\n",
    "        print(\"Normalized confusion matrix\")\n",
    "    else:\n",
    "        print('Confusion matrix, without normalization')\n",
    "\n",
    "    print(cm)\n",
    "\n",
    "    plt.imshow(cm, interpolation='nearest', cmap=cmap)\n",
    "    plt.title(title)\n",
    "    plt.colorbar()\n",
    "    tick_marks = np.arange(len(classes))\n",
    "    plt.xticks(tick_marks, classes, rotation=45)\n",
    "    plt.yticks(tick_marks, classes)\n",
    "\n",
    "    fmt = '.2f' if normalize else 'd'\n",
    "    thresh = cm.max() / 2.\n",
    "    for i, j in itertools.product(range(cm.shape[0]), range(cm.shape[1])):\n",
    "        plt.text(j, i, format(cm[i, j], fmt),\n",
    "                 horizontalalignment=\"center\",\n",
    "                 color=\"white\" if cm[i, j] > thresh else \"black\")\n",
    "\n",
    "    plt.tight_layout()\n",
    "    plt.ylabel('True label')\n",
    "    plt.xlabel('Predicted label')\n",
    "\n",
    "# Compute confusion matrix\n",
    "cnf_matrix = confusion_matrix(Y_test.argmax(axis=1), y_pred.argmax(axis=1))\n",
    "np.set_printoptions(precision=2)\n",
    "\n",
    "# Plot non-normalized confusion matrix\n",
    "plt.figure()\n",
    "plot_confusion_matrix(cnf_matrix, classes,\n",
    "                      title='Confusion matrix, without normalization')\n",
    "\n",
    "# Plot normalized confusion matrix\n",
    "plt.figure()\n",
    "plot_confusion_matrix(cnf_matrix, classes, normalize=True,\n",
    "                      title='Normalized confusion matrix')\n",
    "\n",
    "plt.show()\n",
    "\n",
    "plot_confusion_matrix(cm, classes,\n",
    "                          normalize=False,\n",
    "                          title='Confusion matrix',\n",
    "                          cmap=plt.cm.Blues)"
   ]
  },
  {
   "cell_type": "code",
   "execution_count": null,
   "metadata": {
    "collapsed": true
   },
   "outputs": [],
   "source": [
    "model.save('SGD_model.h5')"
   ]
  },
  {
   "cell_type": "code",
   "execution_count": 56,
   "metadata": {},
   "outputs": [
    {
     "data": {
      "text/plain": [
       "array([[0.81181747, 0.18818256],\n",
       "       [0.37814844, 0.6218515 ],\n",
       "       [0.31540206, 0.6845979 ],\n",
       "       ...,\n",
       "       [0.09088746, 0.9091126 ],\n",
       "       [0.31149802, 0.688502  ],\n",
       "       [0.6740448 , 0.32595518]], dtype=float32)"
      ]
     },
     "execution_count": 56,
     "metadata": {},
     "output_type": "execute_result"
    }
   ],
   "source": [
    "y_pred"
   ]
  },
  {
   "cell_type": "code",
   "execution_count": null,
   "metadata": {
    "collapsed": true
   },
   "outputs": [],
   "source": []
  }
 ],
 "metadata": {
  "kernelspec": {
   "display_name": "Python 2",
   "language": "python",
   "name": "python2"
  },
  "language_info": {
   "codemirror_mode": {
    "name": "ipython",
    "version": 2
   },
   "file_extension": ".py",
   "mimetype": "text/x-python",
   "name": "python",
   "nbconvert_exporter": "python",
   "pygments_lexer": "ipython2",
   "version": "2.7.13"
  }
 },
 "nbformat": 4,
 "nbformat_minor": 2
}
